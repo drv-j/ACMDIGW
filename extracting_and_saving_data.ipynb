{
  "nbformat": 4,
  "nbformat_minor": 0,
  "metadata": {
    "colab": {
      "provenance": [],
      "mount_file_id": "1Xddi9-l2yp2UW6vN49hK_S5JfDaicqd-",
      "authorship_tag": "ABX9TyMJIgj9fm6SZjwF23Ecg/uR",
      "include_colab_link": true
    },
    "kernelspec": {
      "name": "python3",
      "display_name": "Python 3"
    },
    "language_info": {
      "name": "python"
    },
    "widgets": {
      "application/vnd.jupyter.widget-state+json": {
        "e6566524e12e4defa97a20ab17e5ff8e": {
          "model_module": "@jupyter-widgets/controls",
          "model_name": "HBoxModel",
          "model_module_version": "1.5.0",
          "state": {
            "_dom_classes": [],
            "_model_module": "@jupyter-widgets/controls",
            "_model_module_version": "1.5.0",
            "_model_name": "HBoxModel",
            "_view_count": null,
            "_view_module": "@jupyter-widgets/controls",
            "_view_module_version": "1.5.0",
            "_view_name": "HBoxView",
            "box_style": "",
            "children": [
              "IPY_MODEL_dcf2b0089adc4634850279e08929da03",
              "IPY_MODEL_e6bc4ba3b969499c9ac16562ceced70a",
              "IPY_MODEL_47773fe38745464bbb956c37aae56e43"
            ],
            "layout": "IPY_MODEL_7ee1c7968a5944d39970a6ed0a4fc37d"
          }
        },
        "dcf2b0089adc4634850279e08929da03": {
          "model_module": "@jupyter-widgets/controls",
          "model_name": "HTMLModel",
          "model_module_version": "1.5.0",
          "state": {
            "_dom_classes": [],
            "_model_module": "@jupyter-widgets/controls",
            "_model_module_version": "1.5.0",
            "_model_name": "HTMLModel",
            "_view_count": null,
            "_view_module": "@jupyter-widgets/controls",
            "_view_module_version": "1.5.0",
            "_view_name": "HTMLView",
            "description": "",
            "description_tooltip": null,
            "layout": "IPY_MODEL_2a99bb6ac8e042fd93667abb2898c906",
            "placeholder": "​",
            "style": "IPY_MODEL_815d28dad7514fafbdc6aff23018d2cf",
            "value": "100%"
          }
        },
        "e6bc4ba3b969499c9ac16562ceced70a": {
          "model_module": "@jupyter-widgets/controls",
          "model_name": "FloatProgressModel",
          "model_module_version": "1.5.0",
          "state": {
            "_dom_classes": [],
            "_model_module": "@jupyter-widgets/controls",
            "_model_module_version": "1.5.0",
            "_model_name": "FloatProgressModel",
            "_view_count": null,
            "_view_module": "@jupyter-widgets/controls",
            "_view_module_version": "1.5.0",
            "_view_name": "ProgressView",
            "bar_style": "success",
            "description": "",
            "description_tooltip": null,
            "layout": "IPY_MODEL_429309fb7bce4972abe35fe725506a0b",
            "max": 111,
            "min": 0,
            "orientation": "horizontal",
            "style": "IPY_MODEL_02404c0d8cad48fcb7022b173ce31b6c",
            "value": 111
          }
        },
        "47773fe38745464bbb956c37aae56e43": {
          "model_module": "@jupyter-widgets/controls",
          "model_name": "HTMLModel",
          "model_module_version": "1.5.0",
          "state": {
            "_dom_classes": [],
            "_model_module": "@jupyter-widgets/controls",
            "_model_module_version": "1.5.0",
            "_model_name": "HTMLModel",
            "_view_count": null,
            "_view_module": "@jupyter-widgets/controls",
            "_view_module_version": "1.5.0",
            "_view_name": "HTMLView",
            "description": "",
            "description_tooltip": null,
            "layout": "IPY_MODEL_ee70373a9b874c10b351569e88124ed3",
            "placeholder": "​",
            "style": "IPY_MODEL_745381d4970c4d69ae76b4a5206aac9a",
            "value": " 111/111 [00:51&lt;00:00,  2.27it/s]"
          }
        },
        "7ee1c7968a5944d39970a6ed0a4fc37d": {
          "model_module": "@jupyter-widgets/base",
          "model_name": "LayoutModel",
          "model_module_version": "1.2.0",
          "state": {
            "_model_module": "@jupyter-widgets/base",
            "_model_module_version": "1.2.0",
            "_model_name": "LayoutModel",
            "_view_count": null,
            "_view_module": "@jupyter-widgets/base",
            "_view_module_version": "1.2.0",
            "_view_name": "LayoutView",
            "align_content": null,
            "align_items": null,
            "align_self": null,
            "border": null,
            "bottom": null,
            "display": null,
            "flex": null,
            "flex_flow": null,
            "grid_area": null,
            "grid_auto_columns": null,
            "grid_auto_flow": null,
            "grid_auto_rows": null,
            "grid_column": null,
            "grid_gap": null,
            "grid_row": null,
            "grid_template_areas": null,
            "grid_template_columns": null,
            "grid_template_rows": null,
            "height": null,
            "justify_content": null,
            "justify_items": null,
            "left": null,
            "margin": null,
            "max_height": null,
            "max_width": null,
            "min_height": null,
            "min_width": null,
            "object_fit": null,
            "object_position": null,
            "order": null,
            "overflow": null,
            "overflow_x": null,
            "overflow_y": null,
            "padding": null,
            "right": null,
            "top": null,
            "visibility": null,
            "width": null
          }
        },
        "2a99bb6ac8e042fd93667abb2898c906": {
          "model_module": "@jupyter-widgets/base",
          "model_name": "LayoutModel",
          "model_module_version": "1.2.0",
          "state": {
            "_model_module": "@jupyter-widgets/base",
            "_model_module_version": "1.2.0",
            "_model_name": "LayoutModel",
            "_view_count": null,
            "_view_module": "@jupyter-widgets/base",
            "_view_module_version": "1.2.0",
            "_view_name": "LayoutView",
            "align_content": null,
            "align_items": null,
            "align_self": null,
            "border": null,
            "bottom": null,
            "display": null,
            "flex": null,
            "flex_flow": null,
            "grid_area": null,
            "grid_auto_columns": null,
            "grid_auto_flow": null,
            "grid_auto_rows": null,
            "grid_column": null,
            "grid_gap": null,
            "grid_row": null,
            "grid_template_areas": null,
            "grid_template_columns": null,
            "grid_template_rows": null,
            "height": null,
            "justify_content": null,
            "justify_items": null,
            "left": null,
            "margin": null,
            "max_height": null,
            "max_width": null,
            "min_height": null,
            "min_width": null,
            "object_fit": null,
            "object_position": null,
            "order": null,
            "overflow": null,
            "overflow_x": null,
            "overflow_y": null,
            "padding": null,
            "right": null,
            "top": null,
            "visibility": null,
            "width": null
          }
        },
        "815d28dad7514fafbdc6aff23018d2cf": {
          "model_module": "@jupyter-widgets/controls",
          "model_name": "DescriptionStyleModel",
          "model_module_version": "1.5.0",
          "state": {
            "_model_module": "@jupyter-widgets/controls",
            "_model_module_version": "1.5.0",
            "_model_name": "DescriptionStyleModel",
            "_view_count": null,
            "_view_module": "@jupyter-widgets/base",
            "_view_module_version": "1.2.0",
            "_view_name": "StyleView",
            "description_width": ""
          }
        },
        "429309fb7bce4972abe35fe725506a0b": {
          "model_module": "@jupyter-widgets/base",
          "model_name": "LayoutModel",
          "model_module_version": "1.2.0",
          "state": {
            "_model_module": "@jupyter-widgets/base",
            "_model_module_version": "1.2.0",
            "_model_name": "LayoutModel",
            "_view_count": null,
            "_view_module": "@jupyter-widgets/base",
            "_view_module_version": "1.2.0",
            "_view_name": "LayoutView",
            "align_content": null,
            "align_items": null,
            "align_self": null,
            "border": null,
            "bottom": null,
            "display": null,
            "flex": null,
            "flex_flow": null,
            "grid_area": null,
            "grid_auto_columns": null,
            "grid_auto_flow": null,
            "grid_auto_rows": null,
            "grid_column": null,
            "grid_gap": null,
            "grid_row": null,
            "grid_template_areas": null,
            "grid_template_columns": null,
            "grid_template_rows": null,
            "height": null,
            "justify_content": null,
            "justify_items": null,
            "left": null,
            "margin": null,
            "max_height": null,
            "max_width": null,
            "min_height": null,
            "min_width": null,
            "object_fit": null,
            "object_position": null,
            "order": null,
            "overflow": null,
            "overflow_x": null,
            "overflow_y": null,
            "padding": null,
            "right": null,
            "top": null,
            "visibility": null,
            "width": null
          }
        },
        "02404c0d8cad48fcb7022b173ce31b6c": {
          "model_module": "@jupyter-widgets/controls",
          "model_name": "ProgressStyleModel",
          "model_module_version": "1.5.0",
          "state": {
            "_model_module": "@jupyter-widgets/controls",
            "_model_module_version": "1.5.0",
            "_model_name": "ProgressStyleModel",
            "_view_count": null,
            "_view_module": "@jupyter-widgets/base",
            "_view_module_version": "1.2.0",
            "_view_name": "StyleView",
            "bar_color": null,
            "description_width": ""
          }
        },
        "ee70373a9b874c10b351569e88124ed3": {
          "model_module": "@jupyter-widgets/base",
          "model_name": "LayoutModel",
          "model_module_version": "1.2.0",
          "state": {
            "_model_module": "@jupyter-widgets/base",
            "_model_module_version": "1.2.0",
            "_model_name": "LayoutModel",
            "_view_count": null,
            "_view_module": "@jupyter-widgets/base",
            "_view_module_version": "1.2.0",
            "_view_name": "LayoutView",
            "align_content": null,
            "align_items": null,
            "align_self": null,
            "border": null,
            "bottom": null,
            "display": null,
            "flex": null,
            "flex_flow": null,
            "grid_area": null,
            "grid_auto_columns": null,
            "grid_auto_flow": null,
            "grid_auto_rows": null,
            "grid_column": null,
            "grid_gap": null,
            "grid_row": null,
            "grid_template_areas": null,
            "grid_template_columns": null,
            "grid_template_rows": null,
            "height": null,
            "justify_content": null,
            "justify_items": null,
            "left": null,
            "margin": null,
            "max_height": null,
            "max_width": null,
            "min_height": null,
            "min_width": null,
            "object_fit": null,
            "object_position": null,
            "order": null,
            "overflow": null,
            "overflow_x": null,
            "overflow_y": null,
            "padding": null,
            "right": null,
            "top": null,
            "visibility": null,
            "width": null
          }
        },
        "745381d4970c4d69ae76b4a5206aac9a": {
          "model_module": "@jupyter-widgets/controls",
          "model_name": "DescriptionStyleModel",
          "model_module_version": "1.5.0",
          "state": {
            "_model_module": "@jupyter-widgets/controls",
            "_model_module_version": "1.5.0",
            "_model_name": "DescriptionStyleModel",
            "_view_count": null,
            "_view_module": "@jupyter-widgets/base",
            "_view_module_version": "1.2.0",
            "_view_name": "StyleView",
            "description_width": ""
          }
        }
      }
    }
  },
  "cells": [
    {
      "cell_type": "markdown",
      "metadata": {
        "id": "view-in-github",
        "colab_type": "text"
      },
      "source": [
        "<a href=\"https://colab.research.google.com/github/drv-j/ACMDIGW/blob/ML/extracting_and_saving_data.ipynb\" target=\"_parent\"><img src=\"https://colab.research.google.com/assets/colab-badge.svg\" alt=\"Open In Colab\"/></a>"
      ]
    },
    {
      "cell_type": "code",
      "execution_count": null,
      "metadata": {
        "id": "o0O8HRHU7BJv"
      },
      "outputs": [],
      "source": [
        "# most common short-cut keys\n",
        "# ctrl + / = to comment a code\n",
        "# ctrl + enter = run a code block\n",
        "# ctrl + m, b = reate a code block below\n",
        "# ctrl + m, a = cretae a code block above"
      ]
    },
    {
      "cell_type": "code",
      "source": [
        "#connect google drive\n",
        "from google.colab import drive\n",
        "drive.mount('/content/drive')"
      ],
      "metadata": {
        "colab": {
          "base_uri": "https://localhost:8080/"
        },
        "id": "ONVuVusB-dLj",
        "outputId": "d44c6e5e-35c9-4eb3-db4d-4bc4978a9e7c"
      },
      "execution_count": null,
      "outputs": [
        {
          "output_type": "stream",
          "name": "stdout",
          "text": [
            "Drive already mounted at /content/drive; to attempt to forcibly remount, call drive.mount(\"/content/drive\", force_remount=True).\n"
          ]
        }
      ]
    },
    {
      "cell_type": "code",
      "source": [
        "# install yelpapi\n",
        "!pip install yelpapi --quiet"
      ],
      "metadata": {
        "id": "cDBUEzpPAj4-"
      },
      "execution_count": null,
      "outputs": []
    },
    {
      "cell_type": "code",
      "source": [
        "# import libraries\n",
        "import pandas as pd\n",
        "import numpy as np\n",
        "import matplotlib.pyplot as plt\n",
        "import seaborn as sns\n",
        "\n",
        "# additional libraries\n",
        "import os,json,math,time\n",
        "from yelpapi import YelpAPI\n",
        "from tqdm.notebook import tqdm_notebook"
      ],
      "metadata": {
        "id": "K_ZAPmkdBVYg"
      },
      "execution_count": null,
      "outputs": []
    },
    {
      "cell_type": "markdown",
      "source": [
        "Loading Credentials and Creating the YelpAPI Object"
      ],
      "metadata": {
        "id": "n83zQuy9CiYI"
      }
    },
    {
      "cell_type": "code",
      "source": [
        "#load yelp API credentials and instamtiate the YelpAPI object\n",
        "with open('/content/drive/MyDrive/Colab Notebooks/Credentials/yelp_api.json') as file:\n",
        "  yelp_credentials = json.load(file)\n",
        "# create the yelp api engine\n",
        "yelp_api = YelpAPI(yelp_credentials['api-key'], timeout_s=5.0)"
      ],
      "metadata": {
        "id": "mdj7NyvBCrlc"
      },
      "execution_count": null,
      "outputs": []
    },
    {
      "cell_type": "code",
      "source": [
        "#define API call parameters and output file path\n",
        "LOCATION = 'Greenville, SC'\n",
        "TERM = 'Sushi'\n",
        "JSON_FILE = '/Data/results_SC_sushi.json'\n",
        "\n",
        "# display the destination file path\n",
        "print(f'Data will be saved to: {JSON_FILE}')"
      ],
      "metadata": {
        "colab": {
          "base_uri": "https://localhost:8080/"
        },
        "id": "wxvz4W79_yGi",
        "outputId": "9754e046-88dc-4fdc-ee61-fbf40e4c489e"
      },
      "execution_count": null,
      "outputs": [
        {
          "output_type": "stream",
          "name": "stdout",
          "text": [
            "Data will be saved to: /Data/results_SC_sushi.json\n"
          ]
        }
      ]
    },
    {
      "cell_type": "code",
      "source": [
        "#check if JSON_FILE exists and create if it doesn't\n",
        "if not os.path.isfile(JSON_FILE):\n",
        "\n",
        "  #create the directory\n",
        "  os.makedirs(os.path.dirname(JSON_FILE), exist_ok = True)\n",
        "\n",
        "  # confirm and safe an empty list on the file\n",
        "  print(f'[i] {JSON_FILE} not found. Saving empty list on file')\n",
        "  with open (JSON_FILE, 'w') as file:\n",
        "    json.dump([],file)\n",
        "\n",
        "else :\n",
        "  # inform the user if the file already exists\n",
        "  print(f'[i] {JSON_FILE} already exists.')"
      ],
      "metadata": {
        "colab": {
          "base_uri": "https://localhost:8080/"
        },
        "id": "euGnmrZ9BQeE",
        "outputId": "c9c62fe4-6145-48b5-da77-126812efd2f8"
      },
      "execution_count": null,
      "outputs": [
        {
          "output_type": "stream",
          "name": "stdout",
          "text": [
            "[i] /Data/results_SC_sushi.json already exists.\n"
          ]
        }
      ]
    },
    {
      "cell_type": "code",
      "source": [
        "# load previous results and set offset based on the number of results\n",
        "with open(JSON_FILE, 'r') as file:\n",
        "  previous_results = json.load(file)\n",
        "\n",
        "  n_results = len(previous_results)\n",
        "\n",
        "  print(f'-{n_results} previous results found.')"
      ],
      "metadata": {
        "colab": {
          "base_uri": "https://localhost:8080/"
        },
        "id": "PrZZdYORDvcm",
        "outputId": "cac63558-2252-41ec-a732-aaff11920046"
      },
      "execution_count": null,
      "outputs": [
        {
          "output_type": "stream",
          "name": "stdout",
          "text": [
            "-20 previous results found.\n"
          ]
        }
      ]
    },
    {
      "cell_type": "code",
      "source": [
        "# make first API call\n",
        "results = yelp_api.search_query(location = LOCATION,\n",
        "                                term = TERM,\n",
        "                                offset = n_results)\n",
        "results.keys()"
      ],
      "metadata": {
        "colab": {
          "base_uri": "https://localhost:8080/"
        },
        "id": "aIBBFDPqF8ce",
        "outputId": "10f3f0f9-65e9-4d0c-c857-8c966dd0c285"
      },
      "execution_count": null,
      "outputs": [
        {
          "output_type": "execute_result",
          "data": {
            "text/plain": [
              "dict_keys(['businesses', 'total', 'region'])"
            ]
          },
          "metadata": {},
          "execution_count": 22
        }
      ]
    },
    {
      "cell_type": "code",
      "source": [
        "#return how many results were found\n",
        "total_results = results ['total']\n",
        "total_results"
      ],
      "metadata": {
        "colab": {
          "base_uri": "https://localhost:8080/"
        },
        "id": "Y8ZPwDBHF_ln",
        "outputId": "ccf94cf7-cf43-4440-e42f-d464e19054ab"
      },
      "execution_count": null,
      "outputs": [
        {
          "output_type": "execute_result",
          "data": {
            "text/plain": [
              "111"
            ]
          },
          "metadata": {},
          "execution_count": 23
        }
      ]
    },
    {
      "cell_type": "code",
      "source": [
        "business_results = results['businesses']\n",
        "#business_dara was replaced with business_results\n",
        "\n",
        "# specify the filename where you want to save the data\n",
        "json_file_path = JSON_FILE\n",
        "\n",
        "# save the business results\n",
        "with open (json_file_path, 'w') as file:\n",
        "  json.dump(business_results, file, indent = 4)"
      ],
      "metadata": {
        "id": "NFE7QPDJGUp0"
      },
      "execution_count": null,
      "outputs": []
    },
    {
      "cell_type": "markdown",
      "source": [],
      "metadata": {
        "id": "JzMuSQegASou"
      }
    },
    {
      "cell_type": "code",
      "source": [
        "#how many details did we get?\n",
        "results_per_page = len(business_results)\n",
        "# business data was replaced with business_results\n",
        "print(f'number of results retrieved per page',results_per_page)"
      ],
      "metadata": {
        "colab": {
          "base_uri": "https://localhost:8080/"
        },
        "id": "vvWAq1hx_ujA",
        "outputId": "63652e27-4d8d-4107-d6af-6030f7020498"
      },
      "execution_count": null,
      "outputs": [
        {
          "output_type": "stream",
          "name": "stdout",
          "text": [
            "number of results retrieved per page 20\n"
          ]
        }
      ]
    },
    {
      "cell_type": "code",
      "source": [
        "#using the math.ceil to the round up the total number of pages\n",
        "n_pages = math.ceil(total_results/results_per_page)\n",
        "print(f'total number of pages: {n_pages}')"
      ],
      "metadata": {
        "colab": {
          "base_uri": "https://localhost:8080/"
        },
        "id": "7Ff4fVx5AU40",
        "outputId": "eb89e3ae-68a6-4e1b-a5dc-68487dd97b5a"
      },
      "execution_count": null,
      "outputs": [
        {
          "output_type": "stream",
          "name": "stdout",
          "text": [
            "total number of pages: 6\n"
          ]
        }
      ]
    },
    {
      "cell_type": "code",
      "source": [
        "#create a lopp to extract the data\n",
        "for i in tqdm_notebook(range(1, total_results + 1)):  #makes a loop\n",
        "  try:\n",
        "    time.sleep(0.2) #short delay to respect API rata limits\n",
        "    #so that when we call,pause, call pause, it doesn't think we are attacking it\n",
        "\n",
        "    #load existing results to append new data\n",
        "    with open(JSON_FILE, 'r') as file:\n",
        "      previous_results = json.load(file)\n",
        "\n",
        "    #fetch new results\n",
        "    new_results = yelp_api.search_query(location = LOCATION,\n",
        "                                        term = TERM,\n",
        "                                        offset=len(previous_results))\n",
        "    #append and save the updated results\n",
        "    updated_results = previous_results + new_results ['businesses']\n",
        "    with open(JSON_FILE, 'w') as file: # w should not be captial\n",
        "      json.dump(updated_results, file)\n",
        "\n",
        "  except Exception as e:\n",
        "    if 'Too Many Requests for url'in str(e):\n",
        "      print('Rare limit exceeded. Stoppin data-collection')\n",
        "      break\n",
        "\n",
        "    else: #if there is an error, print it and continue if able\n",
        "      print(f'An error occured: {e}')\n",
        "      continue"
      ],
      "metadata": {
        "colab": {
          "base_uri": "https://localhost:8080/",
          "height": 49,
          "referenced_widgets": [
            "e6566524e12e4defa97a20ab17e5ff8e",
            "dcf2b0089adc4634850279e08929da03",
            "e6bc4ba3b969499c9ac16562ceced70a",
            "47773fe38745464bbb956c37aae56e43",
            "7ee1c7968a5944d39970a6ed0a4fc37d",
            "2a99bb6ac8e042fd93667abb2898c906",
            "815d28dad7514fafbdc6aff23018d2cf",
            "429309fb7bce4972abe35fe725506a0b",
            "02404c0d8cad48fcb7022b173ce31b6c",
            "ee70373a9b874c10b351569e88124ed3",
            "745381d4970c4d69ae76b4a5206aac9a"
          ]
        },
        "id": "fn3aMzKJAzLW",
        "outputId": "f3042272-2a6c-4296-8854-1b4166290182"
      },
      "execution_count": null,
      "outputs": [
        {
          "output_type": "display_data",
          "data": {
            "text/plain": [
              "  0%|          | 0/111 [00:00<?, ?it/s]"
            ],
            "application/vnd.jupyter.widget-view+json": {
              "version_major": 2,
              "version_minor": 0,
              "model_id": "e6566524e12e4defa97a20ab17e5ff8e"
            }
          },
          "metadata": {}
        }
      ]
    },
    {
      "cell_type": "code",
      "source": [
        "# load the final JSON file\n",
        "df = pd.read_json (JSON_FILE)\n",
        "\n",
        "#display the first 5 rows of the data\n",
        "df.head()"
      ],
      "metadata": {
        "colab": {
          "base_uri": "https://localhost:8080/",
          "height": 591
        },
        "id": "bTGhOn2JLHoG",
        "outputId": "5cb4d7ec-b785-4d3d-d3f6-8ebcf3ee48b0"
      },
      "execution_count": null,
      "outputs": [
        {
          "output_type": "execute_result",
          "data": {
            "text/plain": [
              "                       id                                            alias  \\\n",
              "0  HlMRxvnD7jC6uMUYZCsDCg  tsunami-japanese-sushi-bar-and-grill-greenville   \n",
              "1  SslytQ5fGcY7DN5a5vRi5A                          hibachi-cafe-greenville   \n",
              "2  0NNl-TjwwDkRl0oAZK4p3A                             sushi-asa-greenville   \n",
              "3  pCpt-b8_ashf7-lVwO8uBQ           zen-ramen-and-sushi-burrito-greenville   \n",
              "4  vILtQZOAP_LqkV_BB4e0cQ              chef-21-sushi-burger-simpsonville-2   \n",
              "\n",
              "                                   name  \\\n",
              "0  Tsunami Japanese Sushi Bar and Grill   \n",
              "1                          Hibachi Cafe   \n",
              "2                             Sushi Asa   \n",
              "3           Zen Ramen and Sushi Burrito   \n",
              "4                  Chef 21 Sushi Burger   \n",
              "\n",
              "                                           image_url  is_closed  \\\n",
              "0  https://s3-media1.fl.yelpcdn.com/bphoto/w5Q5tO...      False   \n",
              "1  https://s3-media1.fl.yelpcdn.com/bphoto/AYwmKG...      False   \n",
              "2  https://s3-media1.fl.yelpcdn.com/bphoto/xEYZ7_...      False   \n",
              "3  https://s3-media1.fl.yelpcdn.com/bphoto/yXFBCq...      False   \n",
              "4  https://s3-media2.fl.yelpcdn.com/bphoto/XJDcDW...      False   \n",
              "\n",
              "                                                 url  review_count  \\\n",
              "0  https://www.yelp.com/biz/tsunami-japanese-sush...           139   \n",
              "1  https://www.yelp.com/biz/hibachi-cafe-greenvil...            81   \n",
              "2  https://www.yelp.com/biz/sushi-asa-greenville?...           145   \n",
              "3  https://www.yelp.com/biz/zen-ramen-and-sushi-b...            45   \n",
              "4  https://www.yelp.com/biz/chef-21-sushi-burger-...            90   \n",
              "\n",
              "                                          categories  rating  \\\n",
              "0  [{'alias': 'japanese', 'title': 'Japanese'}, {...     3.5   \n",
              "1  [{'alias': 'japanese', 'title': 'Japanese'}, {...     4.0   \n",
              "2        [{'alias': 'sushi', 'title': 'Sushi Bars'}]     4.2   \n",
              "3  [{'alias': 'sushi', 'title': 'Sushi Bars'}, {'...     4.4   \n",
              "4  [{'alias': 'sushi', 'title': 'Sushi Bars'}, {'...     4.3   \n",
              "\n",
              "                                         coordinates        transactions  \\\n",
              "0     {'latitude': 34.85197, 'longitude': -82.39704}  [pickup, delivery]   \n",
              "1  {'latitude': 34.8211089, 'longitude': -82.3403...  [pickup, delivery]   \n",
              "2  {'latitude': 34.8171189, 'longitude': -82.2755...  [pickup, delivery]   \n",
              "3  {'latitude': 34.8207592, 'longitude': -82.2636...          [delivery]   \n",
              "4  {'latitude': 34.70605268375681, 'longitude': -...  [pickup, delivery]   \n",
              "\n",
              "  price                                           location         phone  \\\n",
              "0    $$  {'address1': '106 E North St', 'address2': '',...  +18644671055   \n",
              "1    $$  {'address1': '101 Verdae Blvd', 'address2': 'S...  +18642888595   \n",
              "2    $$  {'address1': '150 Tanner Rd', 'address2': None...  +18642885259   \n",
              "3   NaN  {'address1': '1939-B Woodruff Rd', 'address2':...  +18646094066   \n",
              "4   NaN  {'address1': '699 Fairview Rd', 'address2': 'S...  +18646882198   \n",
              "\n",
              "    display_phone      distance  \n",
              "0  (864) 467-1055   3635.170753  \n",
              "1  (864) 288-8595   3341.398427  \n",
              "2  (864) 288-5259   8392.529884  \n",
              "3  (864) 609-4066   9082.998384  \n",
              "4  (864) 688-2198  18283.027592  "
            ],
            "text/html": [
              "\n",
              "  <div id=\"df-29a8c3a0-57a3-4cfc-a825-f3e283c0be54\" class=\"colab-df-container\">\n",
              "    <div>\n",
              "<style scoped>\n",
              "    .dataframe tbody tr th:only-of-type {\n",
              "        vertical-align: middle;\n",
              "    }\n",
              "\n",
              "    .dataframe tbody tr th {\n",
              "        vertical-align: top;\n",
              "    }\n",
              "\n",
              "    .dataframe thead th {\n",
              "        text-align: right;\n",
              "    }\n",
              "</style>\n",
              "<table border=\"1\" class=\"dataframe\">\n",
              "  <thead>\n",
              "    <tr style=\"text-align: right;\">\n",
              "      <th></th>\n",
              "      <th>id</th>\n",
              "      <th>alias</th>\n",
              "      <th>name</th>\n",
              "      <th>image_url</th>\n",
              "      <th>is_closed</th>\n",
              "      <th>url</th>\n",
              "      <th>review_count</th>\n",
              "      <th>categories</th>\n",
              "      <th>rating</th>\n",
              "      <th>coordinates</th>\n",
              "      <th>transactions</th>\n",
              "      <th>price</th>\n",
              "      <th>location</th>\n",
              "      <th>phone</th>\n",
              "      <th>display_phone</th>\n",
              "      <th>distance</th>\n",
              "    </tr>\n",
              "  </thead>\n",
              "  <tbody>\n",
              "    <tr>\n",
              "      <th>0</th>\n",
              "      <td>HlMRxvnD7jC6uMUYZCsDCg</td>\n",
              "      <td>tsunami-japanese-sushi-bar-and-grill-greenville</td>\n",
              "      <td>Tsunami Japanese Sushi Bar and Grill</td>\n",
              "      <td>https://s3-media1.fl.yelpcdn.com/bphoto/w5Q5tO...</td>\n",
              "      <td>False</td>\n",
              "      <td>https://www.yelp.com/biz/tsunami-japanese-sush...</td>\n",
              "      <td>139</td>\n",
              "      <td>[{'alias': 'japanese', 'title': 'Japanese'}, {...</td>\n",
              "      <td>3.5</td>\n",
              "      <td>{'latitude': 34.85197, 'longitude': -82.39704}</td>\n",
              "      <td>[pickup, delivery]</td>\n",
              "      <td>$$</td>\n",
              "      <td>{'address1': '106 E North St', 'address2': '',...</td>\n",
              "      <td>+18644671055</td>\n",
              "      <td>(864) 467-1055</td>\n",
              "      <td>3635.170753</td>\n",
              "    </tr>\n",
              "    <tr>\n",
              "      <th>1</th>\n",
              "      <td>SslytQ5fGcY7DN5a5vRi5A</td>\n",
              "      <td>hibachi-cafe-greenville</td>\n",
              "      <td>Hibachi Cafe</td>\n",
              "      <td>https://s3-media1.fl.yelpcdn.com/bphoto/AYwmKG...</td>\n",
              "      <td>False</td>\n",
              "      <td>https://www.yelp.com/biz/hibachi-cafe-greenvil...</td>\n",
              "      <td>81</td>\n",
              "      <td>[{'alias': 'japanese', 'title': 'Japanese'}, {...</td>\n",
              "      <td>4.0</td>\n",
              "      <td>{'latitude': 34.8211089, 'longitude': -82.3403...</td>\n",
              "      <td>[pickup, delivery]</td>\n",
              "      <td>$$</td>\n",
              "      <td>{'address1': '101 Verdae Blvd', 'address2': 'S...</td>\n",
              "      <td>+18642888595</td>\n",
              "      <td>(864) 288-8595</td>\n",
              "      <td>3341.398427</td>\n",
              "    </tr>\n",
              "    <tr>\n",
              "      <th>2</th>\n",
              "      <td>0NNl-TjwwDkRl0oAZK4p3A</td>\n",
              "      <td>sushi-asa-greenville</td>\n",
              "      <td>Sushi Asa</td>\n",
              "      <td>https://s3-media1.fl.yelpcdn.com/bphoto/xEYZ7_...</td>\n",
              "      <td>False</td>\n",
              "      <td>https://www.yelp.com/biz/sushi-asa-greenville?...</td>\n",
              "      <td>145</td>\n",
              "      <td>[{'alias': 'sushi', 'title': 'Sushi Bars'}]</td>\n",
              "      <td>4.2</td>\n",
              "      <td>{'latitude': 34.8171189, 'longitude': -82.2755...</td>\n",
              "      <td>[pickup, delivery]</td>\n",
              "      <td>$$</td>\n",
              "      <td>{'address1': '150 Tanner Rd', 'address2': None...</td>\n",
              "      <td>+18642885259</td>\n",
              "      <td>(864) 288-5259</td>\n",
              "      <td>8392.529884</td>\n",
              "    </tr>\n",
              "    <tr>\n",
              "      <th>3</th>\n",
              "      <td>pCpt-b8_ashf7-lVwO8uBQ</td>\n",
              "      <td>zen-ramen-and-sushi-burrito-greenville</td>\n",
              "      <td>Zen Ramen and Sushi Burrito</td>\n",
              "      <td>https://s3-media1.fl.yelpcdn.com/bphoto/yXFBCq...</td>\n",
              "      <td>False</td>\n",
              "      <td>https://www.yelp.com/biz/zen-ramen-and-sushi-b...</td>\n",
              "      <td>45</td>\n",
              "      <td>[{'alias': 'sushi', 'title': 'Sushi Bars'}, {'...</td>\n",
              "      <td>4.4</td>\n",
              "      <td>{'latitude': 34.8207592, 'longitude': -82.2636...</td>\n",
              "      <td>[delivery]</td>\n",
              "      <td>NaN</td>\n",
              "      <td>{'address1': '1939-B Woodruff Rd', 'address2':...</td>\n",
              "      <td>+18646094066</td>\n",
              "      <td>(864) 609-4066</td>\n",
              "      <td>9082.998384</td>\n",
              "    </tr>\n",
              "    <tr>\n",
              "      <th>4</th>\n",
              "      <td>vILtQZOAP_LqkV_BB4e0cQ</td>\n",
              "      <td>chef-21-sushi-burger-simpsonville-2</td>\n",
              "      <td>Chef 21 Sushi Burger</td>\n",
              "      <td>https://s3-media2.fl.yelpcdn.com/bphoto/XJDcDW...</td>\n",
              "      <td>False</td>\n",
              "      <td>https://www.yelp.com/biz/chef-21-sushi-burger-...</td>\n",
              "      <td>90</td>\n",
              "      <td>[{'alias': 'sushi', 'title': 'Sushi Bars'}, {'...</td>\n",
              "      <td>4.3</td>\n",
              "      <td>{'latitude': 34.70605268375681, 'longitude': -...</td>\n",
              "      <td>[pickup, delivery]</td>\n",
              "      <td>NaN</td>\n",
              "      <td>{'address1': '699 Fairview Rd', 'address2': 'S...</td>\n",
              "      <td>+18646882198</td>\n",
              "      <td>(864) 688-2198</td>\n",
              "      <td>18283.027592</td>\n",
              "    </tr>\n",
              "  </tbody>\n",
              "</table>\n",
              "</div>\n",
              "    <div class=\"colab-df-buttons\">\n",
              "\n",
              "  <div class=\"colab-df-container\">\n",
              "    <button class=\"colab-df-convert\" onclick=\"convertToInteractive('df-29a8c3a0-57a3-4cfc-a825-f3e283c0be54')\"\n",
              "            title=\"Convert this dataframe to an interactive table.\"\n",
              "            style=\"display:none;\">\n",
              "\n",
              "  <svg xmlns=\"http://www.w3.org/2000/svg\" height=\"24px\" viewBox=\"0 -960 960 960\">\n",
              "    <path d=\"M120-120v-720h720v720H120Zm60-500h600v-160H180v160Zm220 220h160v-160H400v160Zm0 220h160v-160H400v160ZM180-400h160v-160H180v160Zm440 0h160v-160H620v160ZM180-180h160v-160H180v160Zm440 0h160v-160H620v160Z\"/>\n",
              "  </svg>\n",
              "    </button>\n",
              "\n",
              "  <style>\n",
              "    .colab-df-container {\n",
              "      display:flex;\n",
              "      gap: 12px;\n",
              "    }\n",
              "\n",
              "    .colab-df-convert {\n",
              "      background-color: #E8F0FE;\n",
              "      border: none;\n",
              "      border-radius: 50%;\n",
              "      cursor: pointer;\n",
              "      display: none;\n",
              "      fill: #1967D2;\n",
              "      height: 32px;\n",
              "      padding: 0 0 0 0;\n",
              "      width: 32px;\n",
              "    }\n",
              "\n",
              "    .colab-df-convert:hover {\n",
              "      background-color: #E2EBFA;\n",
              "      box-shadow: 0px 1px 2px rgba(60, 64, 67, 0.3), 0px 1px 3px 1px rgba(60, 64, 67, 0.15);\n",
              "      fill: #174EA6;\n",
              "    }\n",
              "\n",
              "    .colab-df-buttons div {\n",
              "      margin-bottom: 4px;\n",
              "    }\n",
              "\n",
              "    [theme=dark] .colab-df-convert {\n",
              "      background-color: #3B4455;\n",
              "      fill: #D2E3FC;\n",
              "    }\n",
              "\n",
              "    [theme=dark] .colab-df-convert:hover {\n",
              "      background-color: #434B5C;\n",
              "      box-shadow: 0px 1px 3px 1px rgba(0, 0, 0, 0.15);\n",
              "      filter: drop-shadow(0px 1px 2px rgba(0, 0, 0, 0.3));\n",
              "      fill: #FFFFFF;\n",
              "    }\n",
              "  </style>\n",
              "\n",
              "    <script>\n",
              "      const buttonEl =\n",
              "        document.querySelector('#df-29a8c3a0-57a3-4cfc-a825-f3e283c0be54 button.colab-df-convert');\n",
              "      buttonEl.style.display =\n",
              "        google.colab.kernel.accessAllowed ? 'block' : 'none';\n",
              "\n",
              "      async function convertToInteractive(key) {\n",
              "        const element = document.querySelector('#df-29a8c3a0-57a3-4cfc-a825-f3e283c0be54');\n",
              "        const dataTable =\n",
              "          await google.colab.kernel.invokeFunction('convertToInteractive',\n",
              "                                                    [key], {});\n",
              "        if (!dataTable) return;\n",
              "\n",
              "        const docLinkHtml = 'Like what you see? Visit the ' +\n",
              "          '<a target=\"_blank\" href=https://colab.research.google.com/notebooks/data_table.ipynb>data table notebook</a>'\n",
              "          + ' to learn more about interactive tables.';\n",
              "        element.innerHTML = '';\n",
              "        dataTable['output_type'] = 'display_data';\n",
              "        await google.colab.output.renderOutput(dataTable, element);\n",
              "        const docLink = document.createElement('div');\n",
              "        docLink.innerHTML = docLinkHtml;\n",
              "        element.appendChild(docLink);\n",
              "      }\n",
              "    </script>\n",
              "  </div>\n",
              "\n",
              "\n",
              "<div id=\"df-4fd72a13-260a-4372-ba1c-4d378edcde54\">\n",
              "  <button class=\"colab-df-quickchart\" onclick=\"quickchart('df-4fd72a13-260a-4372-ba1c-4d378edcde54')\"\n",
              "            title=\"Suggest charts\"\n",
              "            style=\"display:none;\">\n",
              "\n",
              "<svg xmlns=\"http://www.w3.org/2000/svg\" height=\"24px\"viewBox=\"0 0 24 24\"\n",
              "     width=\"24px\">\n",
              "    <g>\n",
              "        <path d=\"M19 3H5c-1.1 0-2 .9-2 2v14c0 1.1.9 2 2 2h14c1.1 0 2-.9 2-2V5c0-1.1-.9-2-2-2zM9 17H7v-7h2v7zm4 0h-2V7h2v10zm4 0h-2v-4h2v4z\"/>\n",
              "    </g>\n",
              "</svg>\n",
              "  </button>\n",
              "\n",
              "<style>\n",
              "  .colab-df-quickchart {\n",
              "      --bg-color: #E8F0FE;\n",
              "      --fill-color: #1967D2;\n",
              "      --hover-bg-color: #E2EBFA;\n",
              "      --hover-fill-color: #174EA6;\n",
              "      --disabled-fill-color: #AAA;\n",
              "      --disabled-bg-color: #DDD;\n",
              "  }\n",
              "\n",
              "  [theme=dark] .colab-df-quickchart {\n",
              "      --bg-color: #3B4455;\n",
              "      --fill-color: #D2E3FC;\n",
              "      --hover-bg-color: #434B5C;\n",
              "      --hover-fill-color: #FFFFFF;\n",
              "      --disabled-bg-color: #3B4455;\n",
              "      --disabled-fill-color: #666;\n",
              "  }\n",
              "\n",
              "  .colab-df-quickchart {\n",
              "    background-color: var(--bg-color);\n",
              "    border: none;\n",
              "    border-radius: 50%;\n",
              "    cursor: pointer;\n",
              "    display: none;\n",
              "    fill: var(--fill-color);\n",
              "    height: 32px;\n",
              "    padding: 0;\n",
              "    width: 32px;\n",
              "  }\n",
              "\n",
              "  .colab-df-quickchart:hover {\n",
              "    background-color: var(--hover-bg-color);\n",
              "    box-shadow: 0 1px 2px rgba(60, 64, 67, 0.3), 0 1px 3px 1px rgba(60, 64, 67, 0.15);\n",
              "    fill: var(--button-hover-fill-color);\n",
              "  }\n",
              "\n",
              "  .colab-df-quickchart-complete:disabled,\n",
              "  .colab-df-quickchart-complete:disabled:hover {\n",
              "    background-color: var(--disabled-bg-color);\n",
              "    fill: var(--disabled-fill-color);\n",
              "    box-shadow: none;\n",
              "  }\n",
              "\n",
              "  .colab-df-spinner {\n",
              "    border: 2px solid var(--fill-color);\n",
              "    border-color: transparent;\n",
              "    border-bottom-color: var(--fill-color);\n",
              "    animation:\n",
              "      spin 1s steps(1) infinite;\n",
              "  }\n",
              "\n",
              "  @keyframes spin {\n",
              "    0% {\n",
              "      border-color: transparent;\n",
              "      border-bottom-color: var(--fill-color);\n",
              "      border-left-color: var(--fill-color);\n",
              "    }\n",
              "    20% {\n",
              "      border-color: transparent;\n",
              "      border-left-color: var(--fill-color);\n",
              "      border-top-color: var(--fill-color);\n",
              "    }\n",
              "    30% {\n",
              "      border-color: transparent;\n",
              "      border-left-color: var(--fill-color);\n",
              "      border-top-color: var(--fill-color);\n",
              "      border-right-color: var(--fill-color);\n",
              "    }\n",
              "    40% {\n",
              "      border-color: transparent;\n",
              "      border-right-color: var(--fill-color);\n",
              "      border-top-color: var(--fill-color);\n",
              "    }\n",
              "    60% {\n",
              "      border-color: transparent;\n",
              "      border-right-color: var(--fill-color);\n",
              "    }\n",
              "    80% {\n",
              "      border-color: transparent;\n",
              "      border-right-color: var(--fill-color);\n",
              "      border-bottom-color: var(--fill-color);\n",
              "    }\n",
              "    90% {\n",
              "      border-color: transparent;\n",
              "      border-bottom-color: var(--fill-color);\n",
              "    }\n",
              "  }\n",
              "</style>\n",
              "\n",
              "  <script>\n",
              "    async function quickchart(key) {\n",
              "      const quickchartButtonEl =\n",
              "        document.querySelector('#' + key + ' button');\n",
              "      quickchartButtonEl.disabled = true;  // To prevent multiple clicks.\n",
              "      quickchartButtonEl.classList.add('colab-df-spinner');\n",
              "      try {\n",
              "        const charts = await google.colab.kernel.invokeFunction(\n",
              "            'suggestCharts', [key], {});\n",
              "      } catch (error) {\n",
              "        console.error('Error during call to suggestCharts:', error);\n",
              "      }\n",
              "      quickchartButtonEl.classList.remove('colab-df-spinner');\n",
              "      quickchartButtonEl.classList.add('colab-df-quickchart-complete');\n",
              "    }\n",
              "    (() => {\n",
              "      let quickchartButtonEl =\n",
              "        document.querySelector('#df-4fd72a13-260a-4372-ba1c-4d378edcde54 button');\n",
              "      quickchartButtonEl.style.display =\n",
              "        google.colab.kernel.accessAllowed ? 'block' : 'none';\n",
              "    })();\n",
              "  </script>\n",
              "</div>\n",
              "    </div>\n",
              "  </div>\n"
            ],
            "application/vnd.google.colaboratory.intrinsic+json": {
              "type": "dataframe",
              "variable_name": "df",
              "summary": "{\n  \"name\": \"df\",\n  \"rows\": 111,\n  \"fields\": [\n    {\n      \"column\": \"id\",\n      \"properties\": {\n        \"dtype\": \"string\",\n        \"num_unique_values\": 91,\n        \"samples\": [\n          \"pBRzyeIr-cgd0UVeOpD1QQ\",\n          \"P_Ak7z8vL93mN-LUS1eOpA\",\n          \"PSBcnD_LE5nZqY0spNM59Q\"\n        ],\n        \"semantic_type\": \"\",\n        \"description\": \"\"\n      }\n    },\n    {\n      \"column\": \"alias\",\n      \"properties\": {\n        \"dtype\": \"string\",\n        \"num_unique_values\": 91,\n        \"samples\": [\n          \"tokyo-grill-sushi-and-supreme-buffet-greenville\",\n          \"dozo-sushi-and-hibachi-restaurant-greenville\",\n          \"hibachi-cafe-greer-2\"\n        ],\n        \"semantic_type\": \"\",\n        \"description\": \"\"\n      }\n    },\n    {\n      \"column\": \"name\",\n      \"properties\": {\n        \"dtype\": \"string\",\n        \"num_unique_values\": 79,\n        \"samples\": [\n          \"Sushi Shack\",\n          \"Tsunami Japanese Sushi Bar and Grill\",\n          \"Dozo Sushi & Hibachi Restaurant\"\n        ],\n        \"semantic_type\": \"\",\n        \"description\": \"\"\n      }\n    },\n    {\n      \"column\": \"image_url\",\n      \"properties\": {\n        \"dtype\": \"string\",\n        \"num_unique_values\": 91,\n        \"samples\": [\n          \"https://s3-media4.fl.yelpcdn.com/bphoto/cvmAY2Ijye_0EyGNcEWFOg/o.jpg\",\n          \"https://s3-media3.fl.yelpcdn.com/bphoto/BoUmHroBDAufuUdSN-9pwg/o.jpg\",\n          \"https://s3-media1.fl.yelpcdn.com/bphoto/EoHUil_iyiMX46KTzqXXww/o.jpg\"\n        ],\n        \"semantic_type\": \"\",\n        \"description\": \"\"\n      }\n    },\n    {\n      \"column\": \"is_closed\",\n      \"properties\": {\n        \"dtype\": \"boolean\",\n        \"num_unique_values\": 1,\n        \"samples\": [\n          false\n        ],\n        \"semantic_type\": \"\",\n        \"description\": \"\"\n      }\n    },\n    {\n      \"column\": \"url\",\n      \"properties\": {\n        \"dtype\": \"string\",\n        \"num_unique_values\": 91,\n        \"samples\": [\n          \"https://www.yelp.com/biz/tokyo-grill-sushi-and-supreme-buffet-greenville?adjust_creative=mOPcnzY7UFQ82o9DIxgRkA&utm_campaign=yelp_api_v3&utm_medium=api_v3_business_search&utm_source=mOPcnzY7UFQ82o9DIxgRkA\"\n        ],\n        \"semantic_type\": \"\",\n        \"description\": \"\"\n      }\n    },\n    {\n      \"column\": \"review_count\",\n      \"properties\": {\n        \"dtype\": \"number\",\n        \"std\": 125,\n        \"min\": 2,\n        \"max\": 1021,\n        \"num_unique_values\": 69,\n        \"samples\": [\n          125\n        ],\n        \"semantic_type\": \"\",\n        \"description\": \"\"\n      }\n    },\n    {\n      \"column\": \"categories\",\n      \"properties\": {\n        \"dtype\": \"object\",\n        \"semantic_type\": \"\",\n        \"description\": \"\"\n      }\n    },\n    {\n      \"column\": \"rating\",\n      \"properties\": {\n        \"dtype\": \"number\",\n        \"std\": 0.6419500900380949,\n        \"min\": 1.6,\n        \"max\": 5.0,\n        \"num_unique_values\": 25,\n        \"samples\": [\n          2.9\n        ],\n        \"semantic_type\": \"\",\n        \"description\": \"\"\n      }\n    },\n    {\n      \"column\": \"coordinates\",\n      \"properties\": {\n        \"dtype\": \"object\",\n        \"semantic_type\": \"\",\n        \"description\": \"\"\n      }\n    },\n    {\n      \"column\": \"transactions\",\n      \"properties\": {\n        \"dtype\": \"object\",\n        \"semantic_type\": \"\",\n        \"description\": \"\"\n      }\n    },\n    {\n      \"column\": \"price\",\n      \"properties\": {\n        \"dtype\": \"category\",\n        \"num_unique_values\": 3,\n        \"samples\": [\n          \"$$\"\n        ],\n        \"semantic_type\": \"\",\n        \"description\": \"\"\n      }\n    },\n    {\n      \"column\": \"location\",\n      \"properties\": {\n        \"dtype\": \"object\",\n        \"semantic_type\": \"\",\n        \"description\": \"\"\n      }\n    },\n    {\n      \"column\": \"phone\",\n      \"properties\": {\n        \"dtype\": \"string\",\n        \"num_unique_values\": 86,\n        \"samples\": [\n          \"+18648778885\"\n        ],\n        \"semantic_type\": \"\",\n        \"description\": \"\"\n      }\n    },\n    {\n      \"column\": \"display_phone\",\n      \"properties\": {\n        \"dtype\": \"string\",\n        \"num_unique_values\": 86,\n        \"samples\": [\n          \"(864) 877-8885\"\n        ],\n        \"semantic_type\": \"\",\n        \"description\": \"\"\n      }\n    },\n    {\n      \"column\": \"distance\",\n      \"properties\": {\n        \"dtype\": \"number\",\n        \"std\": 5029.855470915484,\n        \"min\": 653.0490265231333,\n        \"max\": 18437.432245844797,\n        \"num_unique_values\": 90,\n        \"samples\": [\n          8832.07822651488\n        ],\n        \"semantic_type\": \"\",\n        \"description\": \"\"\n      }\n    }\n  ]\n}"
            }
          },
          "metadata": {},
          "execution_count": 63
        }
      ]
    },
    {
      "cell_type": "code",
      "source": [
        "# Specify the directory\n",
        "directory = '/content/drive/MyDrive/Colab Notebooks/Data'\n",
        "filename = 'final_results_SC_suhsi.csv.gz' # make sure to include the .csz.gz extension\n",
        "path = os.path.join(directory, filename)\n",
        "\n",
        "# ensure that the 'Data' directory exists\n",
        "os.makedirs(directory, exist_ok=True)\n",
        "\n",
        "# save the dataframe as a compressed csv file (to save space)\n",
        "df.to_csv(path, compression='gzip', index=False)\n",
        "# df was defined in the previous code block: df = pd.read_json(JSON_FILE)"
      ],
      "metadata": {
        "id": "JZwZ5BZsEvmZ"
      },
      "execution_count": null,
      "outputs": []
    },
    {
      "cell_type": "code",
      "source": [
        "# save as JSON file\n",
        "json_file = '/content/dirve/MyDrive/Colab Notebooks/Data/final_results_SC_sushi.json'\n",
        "# add Data folders copied path before / final_results_SC_sushi.json\n",
        "\n",
        "# save the json as a dataframe\n",
        "df.to_json(json_file, orient='records', lines=True)"
      ],
      "metadata": {
        "id": "gNGCvcbaLRlv"
      },
      "execution_count": null,
      "outputs": []
    },
    {
      "cell_type": "code",
      "source": [
        "# save the file as gzip\n",
        "csv_gz_file = json_file.replace('.json', '.csv.gz')\n",
        "\n",
        "# save the dataframne as a compressed csv without the index\n",
        "df.to_csv(csv_gz_file, compression='gzip',index=False)"
      ],
      "metadata": {
        "id": "MTYTSMcgLXXA"
      },
      "execution_count": null,
      "outputs": []
    }
  ]
}